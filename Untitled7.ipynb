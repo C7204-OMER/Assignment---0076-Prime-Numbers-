{
  "nbformat": 4,
  "nbformat_minor": 0,
  "metadata": {
    "colab": {
      "name": "Untitled7.ipynb",
      "provenance": [],
      "authorship_tag": "ABX9TyN+w8g1tejP3BIxiozQRfqu",
      "include_colab_link": true
    },
    "kernelspec": {
      "name": "python3",
      "display_name": "Python 3"
    }
  },
  "cells": [
    {
      "cell_type": "markdown",
      "metadata": {
        "id": "view-in-github",
        "colab_type": "text"
      },
      "source": [
        "<a href=\"https://colab.research.google.com/github/C7204-OMER/Assignment---0076-Prime-Numbers-/blob/main/Untitled7.ipynb\" target=\"_parent\"><img src=\"https://colab.research.google.com/assets/colab-badge.svg\" alt=\"Open In Colab\"/></a>"
      ]
    },
    {
      "cell_type": "code",
      "metadata": {
        "id": "HajJlCGzPA26"
      },
      "source": [
        "number = int(input(\"Please Enter a number : \"))\r\n",
        "\r\n",
        "prime_list = []\r\n",
        "\r\n",
        "for i in range(1,number):\r\n",
        "  if i > 1:\r\n",
        "    for x in range(2,i):                    ### Prime Number in List ###\r\n",
        "        if (i % x) == 0:\r\n",
        "            break\r\n",
        "    else:\r\n",
        "        prime_list.append(i)\r\n",
        "\r\n",
        "print(prime_list)"
      ],
      "execution_count": null,
      "outputs": []
    }
  ]
}