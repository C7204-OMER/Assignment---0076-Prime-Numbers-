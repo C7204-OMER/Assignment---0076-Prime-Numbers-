{
  "nbformat": 4,
  "nbformat_minor": 0,
  "metadata": {
    "colab": {
      "name": "Untitled6.ipynb",
      "provenance": [],
      "authorship_tag": "ABX9TyNi2Zd7wn3J0DJbB9/+SEPl",
      "include_colab_link": true
    },
    "kernelspec": {
      "name": "python3",
      "display_name": "Python 3"
    }
  },
  "cells": [
    {
      "cell_type": "markdown",
      "metadata": {
        "id": "view-in-github",
        "colab_type": "text"
      },
      "source": [
        "<a href=\"https://colab.research.google.com/github/C7204-OMER/Assignment---0076-Prime-Numbers-/blob/main/Untitled6.ipynb\" target=\"_parent\"><img src=\"https://colab.research.google.com/assets/colab-badge.svg\" alt=\"Open In Colab\"/></a>"
      ]
    },
    {
      "cell_type": "code",
      "metadata": {
        "colab": {
          "base_uri": "https://localhost:8080/"
        },
        "id": "BuLWjHFWRgxU",
        "outputId": "7e846c09-ba37-4091-a463-5d11f619e5c1"
      },
      "source": [
        "number = int(input(\"Please Enter a number : \"))\r\n",
        "\r\n",
        "prime_list = []\r\n",
        "\r\n",
        "for i in range(1,number):\r\n",
        "  if i > 1:\r\n",
        "    for x in range(2,i):                    ### Prime Number in List ###\r\n",
        "        if (i % x) == 0:\r\n",
        "            break\r\n",
        "    else:\r\n",
        "        prime_list.append(i)\r\n",
        "\r\n",
        "print(prime_list)"
      ],
      "execution_count": null,
      "outputs": [
        {
          "output_type": "stream",
          "text": [
            "Please Enter a number : 7\n",
            "[2, 3, 5]\n"
          ],
          "name": "stdout"
        }
      ]
    },
    {
      "cell_type": "code",
      "metadata": {
        "id": "eWCeOBXsJi90"
      },
      "source": [
        "numbers = range(1,101)\r\n",
        "\r\n",
        "for i in numbers:\r\n",
        "  if i % 15 == 0:\r\n",
        "    print(\"FizzBuzz\")                         ####  Fizz  Buzz  ####\r\n",
        "  elif i % 5 == 0:\r\n",
        "    print(\"Buzz\")\r\n",
        "  elif i % 3 == 0:\r\n",
        "    print(\"Fizz\")\r\n",
        "  else:\r\n",
        "    print(i)"
      ],
      "execution_count": null,
      "outputs": []
    }
  ]
}